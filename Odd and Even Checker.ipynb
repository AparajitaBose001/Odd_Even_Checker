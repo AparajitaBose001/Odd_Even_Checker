{
 "cells": [
  {
   "cell_type": "code",
   "execution_count": 5,
   "metadata": {},
   "outputs": [
    {
     "name": "stdout",
     "output_type": "stream",
     "text": [
      "Hello!\n",
      "Enter a number:\n",
      "10\n",
      "10 is an even number \n"
     ]
    }
   ],
   "source": [
    "print(\"Hello!\")\n",
    "print(\"Enter a number:\")\n",
    "varr=int(input())\n",
    "if varr%2==0:\n",
    "    print(varr, \"is an even number \")\n",
    "else:\n",
    "    print(varr, \"is an odd number\")"
   ]
  },
  {
   "cell_type": "code",
   "execution_count": null,
   "metadata": {},
   "outputs": [],
   "source": []
  }
 ],
 "metadata": {
  "kernelspec": {
   "display_name": "Python 3",
   "language": "python",
   "name": "python3"
  },
  "language_info": {
   "codemirror_mode": {
    "name": "ipython",
    "version": 3
   },
   "file_extension": ".py",
   "mimetype": "text/x-python",
   "name": "python",
   "nbconvert_exporter": "python",
   "pygments_lexer": "ipython3",
   "version": "3.7.6"
  }
 },
 "nbformat": 4,
 "nbformat_minor": 4
}
